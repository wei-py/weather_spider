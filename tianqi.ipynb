{
 "metadata": {
  "language_info": {
   "codemirror_mode": {
    "name": "ipython",
    "version": 3
   },
   "file_extension": ".py",
   "mimetype": "text/x-python",
   "name": "python",
   "nbconvert_exporter": "python",
   "pygments_lexer": "ipython3",
   "version": "3.8.2"
  },
  "orig_nbformat": 2,
  "kernelspec": {
   "name": "python382jvsc74a57bd031f2aee4e71d21fbe5cf8b01ff0e069b9275f58929596ceb00d14d90e3e16cd6",
   "display_name": "Python 3.8.2 64-bit"
  },
  "metadata": {
   "interpreter": {
    "hash": "31f2aee4e71d21fbe5cf8b01ff0e069b9275f58929596ceb00d14d90e3e16cd6"
   }
  }
 },
 "nbformat": 4,
 "nbformat_minor": 2,
 "cells": [
  {
   "cell_type": "code",
   "execution_count": 26,
   "metadata": {},
   "outputs": [],
   "source": [
    "import pandas as pd\n",
    "import numpy as np\n",
    "import json, re"
   ]
  },
  {
   "cell_type": "code",
   "execution_count": 27,
   "metadata": {
    "tags": []
   },
   "outputs": [],
   "source": [
    "with open('qu.json', 'r') as f:\n",
    "    all_dis = re.sub(', \"NAMECN\": \".*?\"', '', f.read())\n",
    "    all_dis = json.loads(all_dis)"
   ]
  },
  {
   "cell_type": "code",
   "execution_count": 29,
   "metadata": {},
   "outputs": [],
   "source": [
    "reform = {(level1_key, level2_key, level3_key): values\n",
    "\n",
    "for level1_key, level2_dict in all_dis.items()\n",
    "\n",
    "for level2_key, level3_dict in level2_dict.items()\n",
    "\n",
    "for level3_key, values in level3_dict.items()}"
   ]
  },
  {
   "cell_type": "code",
   "execution_count": 35,
   "metadata": {},
   "outputs": [],
   "source": [
    "test = pd.DataFrame(reform).T"
   ]
  },
  {
   "cell_type": "code",
   "execution_count": 37,
   "metadata": {},
   "outputs": [
    {
     "output_type": "execute_result",
     "data": {
      "text/plain": [
       "             AREAID\n",
       "北京 北京 北京  101010100\n",
       "      海淀  101010200\n",
       "      朝阳  101010300\n",
       "      顺义  101010400\n",
       "      怀柔  101010500"
      ],
      "text/html": "<div>\n<style scoped>\n    .dataframe tbody tr th:only-of-type {\n        vertical-align: middle;\n    }\n\n    .dataframe tbody tr th {\n        vertical-align: top;\n    }\n\n    .dataframe thead th {\n        text-align: right;\n    }\n</style>\n<table border=\"1\" class=\"dataframe\">\n  <thead>\n    <tr style=\"text-align: right;\">\n      <th></th>\n      <th></th>\n      <th></th>\n      <th>AREAID</th>\n    </tr>\n  </thead>\n  <tbody>\n    <tr>\n      <th rowspan=\"5\" valign=\"top\">北京</th>\n      <th rowspan=\"5\" valign=\"top\">北京</th>\n      <th>北京</th>\n      <td>101010100</td>\n    </tr>\n    <tr>\n      <th>海淀</th>\n      <td>101010200</td>\n    </tr>\n    <tr>\n      <th>朝阳</th>\n      <td>101010300</td>\n    </tr>\n    <tr>\n      <th>顺义</th>\n      <td>101010400</td>\n    </tr>\n    <tr>\n      <th>怀柔</th>\n      <td>101010500</td>\n    </tr>\n  </tbody>\n</table>\n</div>"
     },
     "metadata": {},
     "execution_count": 37
    }
   ],
   "source": [
    "test.head()"
   ]
  },
  {
   "cell_type": "code",
   "execution_count": 43,
   "metadata": {},
   "outputs": [
    {
     "output_type": "execute_result",
     "data": {
      "text/plain": [
       "'101280502'"
      ]
     },
     "metadata": {},
     "execution_count": 43
    }
   ],
   "source": [
    "test.loc['广东', '汕头', '潮阳']['AREAID']"
   ]
  },
  {
   "cell_type": "code",
   "execution_count": 45,
   "metadata": {},
   "outputs": [],
   "source": [
    "test.to_excel('/Users/wei/workspace/天气/qu.xlsx')"
   ]
  },
  {
   "cell_type": "code",
   "execution_count": null,
   "metadata": {},
   "outputs": [],
   "source": []
  }
 ]
}